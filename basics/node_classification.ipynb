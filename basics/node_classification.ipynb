{
 "cells": [
  {
   "cell_type": "code",
   "execution_count": 1,
   "id": "1f257244-a1a6-4fd5-bbf2-a7b36518824f",
   "metadata": {},
   "outputs": [],
   "source": [
    "# started working on node classification"
   ]
  },
  {
   "cell_type": "code",
   "execution_count": null,
   "id": "97be1647-4627-437b-b69b-4c3f38bde573",
   "metadata": {},
   "outputs": [],
   "source": []
  }
 ],
 "metadata": {
  "kernelspec": {
   "display_name": "Python 3 (ipykernel)",
   "language": "python",
   "name": "python3"
  },
  "language_info": {
   "codemirror_mode": {
    "name": "ipython",
    "version": 3
   },
   "file_extension": ".py",
   "mimetype": "text/x-python",
   "name": "python",
   "nbconvert_exporter": "python",
   "pygments_lexer": "ipython3",
   "version": "3.12.4"
  }
 },
 "nbformat": 4,
 "nbformat_minor": 5
}
